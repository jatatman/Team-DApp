{
 "cells": [
  {
   "cell_type": "code",
   "execution_count": 148,
   "metadata": {},
   "outputs": [],
   "source": [
    "import pandas as pd\n",
    "import numpy as np"
   ]
  },
  {
   "cell_type": "code",
   "execution_count": 149,
   "metadata": {},
   "outputs": [],
   "source": [
    "df = pd.read_excel(\"DAPP\\\\dog1.xlsx\")"
   ]
  },
  {
   "cell_type": "code",
   "execution_count": 150,
   "metadata": {
    "scrolled": true
   },
   "outputs": [
    {
     "data": {
      "text/html": [
       "<div>\n",
       "<style scoped>\n",
       "    .dataframe tbody tr th:only-of-type {\n",
       "        vertical-align: middle;\n",
       "    }\n",
       "\n",
       "    .dataframe tbody tr th {\n",
       "        vertical-align: top;\n",
       "    }\n",
       "\n",
       "    .dataframe thead th {\n",
       "        text-align: right;\n",
       "    }\n",
       "</style>\n",
       "<table border=\"1\" class=\"dataframe\">\n",
       "  <thead>\n",
       "    <tr style=\"text-align: right;\">\n",
       "      <th></th>\n",
       "      <th>breed</th>\n",
       "      <th>common_nicknames</th>\n",
       "      <th>weight_kg</th>\n",
       "      <th>weight_lb</th>\n",
       "      <th>height_cm</th>\n",
       "      <th>height_in</th>\n",
       "      <th>coat</th>\n",
       "      <th>color</th>\n",
       "      <th>life span</th>\n",
       "    </tr>\n",
       "  </thead>\n",
       "  <tbody>\n",
       "    <tr>\n",
       "      <th>0</th>\n",
       "      <td>chihuahua</td>\n",
       "      <td>chi,chi-chi,hua-hua</td>\n",
       "      <td>1.8_2.7</td>\n",
       "      <td>4_6</td>\n",
       "      <td>15_25</td>\n",
       "      <td>6_10</td>\n",
       "      <td>short,long</td>\n",
       "      <td>any</td>\n",
       "      <td>12_20</td>\n",
       "    </tr>\n",
       "    <tr>\n",
       "      <th>1</th>\n",
       "      <td>japanese spaniel</td>\n",
       "      <td>japanese chin</td>\n",
       "      <td>1.4_6.8</td>\n",
       "      <td>3_15</td>\n",
       "      <td>20_27</td>\n",
       "      <td>8_11</td>\n",
       "      <td>long</td>\n",
       "      <td>white/black,white/red,tricolor</td>\n",
       "      <td>10_12</td>\n",
       "    </tr>\n",
       "    <tr>\n",
       "      <th>2</th>\n",
       "      <td>maltese dog</td>\n",
       "      <td>0</td>\n",
       "      <td>1.4_3.6</td>\n",
       "      <td>3_8</td>\n",
       "      <td>20_25</td>\n",
       "      <td>8_10</td>\n",
       "      <td>long</td>\n",
       "      <td>white</td>\n",
       "      <td>12_15</td>\n",
       "    </tr>\n",
       "    <tr>\n",
       "      <th>3</th>\n",
       "      <td>pekinese</td>\n",
       "      <td>pekingese</td>\n",
       "      <td>3.2_6.4</td>\n",
       "      <td>7_14</td>\n",
       "      <td>15_23</td>\n",
       "      <td>6_9</td>\n",
       "      <td>long</td>\n",
       "      <td>multi</td>\n",
       "      <td>12_14</td>\n",
       "    </tr>\n",
       "    <tr>\n",
       "      <th>4</th>\n",
       "      <td>shih-tzu</td>\n",
       "      <td>0</td>\n",
       "      <td>4_7.25</td>\n",
       "      <td>9_16</td>\n",
       "      <td>20_28</td>\n",
       "      <td>8_10</td>\n",
       "      <td>long</td>\n",
       "      <td>multi</td>\n",
       "      <td>10_16</td>\n",
       "    </tr>\n",
       "  </tbody>\n",
       "</table>\n",
       "</div>"
      ],
      "text/plain": [
       "              breed     common_nicknames weight_kg weight_lb height_cm  \\\n",
       "0         chihuahua  chi,chi-chi,hua-hua   1.8_2.7       4_6     15_25   \n",
       "1  japanese spaniel        japanese chin   1.4_6.8      3_15     20_27   \n",
       "2       maltese dog                    0   1.4_3.6       3_8     20_25   \n",
       "3          pekinese            pekingese   3.2_6.4      7_14     15_23   \n",
       "4          shih-tzu                    0    4_7.25      9_16     20_28   \n",
       "\n",
       "  height_in        coat                           color life span  \n",
       "0      6_10  short,long                             any     12_20  \n",
       "1      8_11        long  white/black,white/red,tricolor     10_12  \n",
       "2      8_10        long                           white     12_15  \n",
       "3       6_9        long                           multi     12_14  \n",
       "4      8_10        long                           multi     10_16  "
      ]
     },
     "execution_count": 150,
     "metadata": {},
     "output_type": "execute_result"
    }
   ],
   "source": [
    "df.head()"
   ]
  },
  {
   "cell_type": "code",
   "execution_count": 151,
   "metadata": {},
   "outputs": [
    {
     "data": {
      "text/html": [
       "<div>\n",
       "<style scoped>\n",
       "    .dataframe tbody tr th:only-of-type {\n",
       "        vertical-align: middle;\n",
       "    }\n",
       "\n",
       "    .dataframe tbody tr th {\n",
       "        vertical-align: top;\n",
       "    }\n",
       "\n",
       "    .dataframe thead th {\n",
       "        text-align: right;\n",
       "    }\n",
       "</style>\n",
       "<table border=\"1\" class=\"dataframe\">\n",
       "  <thead>\n",
       "    <tr style=\"text-align: right;\">\n",
       "      <th></th>\n",
       "      <th>breed</th>\n",
       "      <th>common_nicknames</th>\n",
       "      <th>weight_kg</th>\n",
       "      <th>weight_lb</th>\n",
       "      <th>height_cm</th>\n",
       "      <th>height_in</th>\n",
       "      <th>coat</th>\n",
       "      <th>color</th>\n",
       "      <th>life span</th>\n",
       "    </tr>\n",
       "  </thead>\n",
       "  <tbody>\n",
       "    <tr>\n",
       "      <th>7</th>\n",
       "      <td>toy terrier</td>\n",
       "      <td>0</td>\n",
       "      <td>0</td>\n",
       "      <td>0</td>\n",
       "      <td>0</td>\n",
       "      <td>0</td>\n",
       "      <td>0</td>\n",
       "      <td>0</td>\n",
       "      <td>0</td>\n",
       "    </tr>\n",
       "    <tr>\n",
       "      <th>80</th>\n",
       "      <td>collie</td>\n",
       "      <td>0</td>\n",
       "      <td>0</td>\n",
       "      <td>0</td>\n",
       "      <td>0</td>\n",
       "      <td>0</td>\n",
       "      <td>0</td>\n",
       "      <td>0</td>\n",
       "      <td>0</td>\n",
       "    </tr>\n",
       "    <tr>\n",
       "      <th>97</th>\n",
       "      <td>eskimo dog</td>\n",
       "      <td>0</td>\n",
       "      <td>0</td>\n",
       "      <td>0</td>\n",
       "      <td>0</td>\n",
       "      <td>0</td>\n",
       "      <td>0</td>\n",
       "      <td>0</td>\n",
       "      <td>0</td>\n",
       "    </tr>\n",
       "  </tbody>\n",
       "</table>\n",
       "</div>"
      ],
      "text/plain": [
       "          breed common_nicknames weight_kg weight_lb height_cm height_in coat  \\\n",
       "7   toy terrier                0         0         0         0         0    0   \n",
       "80       collie                0         0         0         0         0    0   \n",
       "97   eskimo dog                0         0         0         0         0    0   \n",
       "\n",
       "   color life span  \n",
       "7      0         0  \n",
       "80     0         0  \n",
       "97     0         0  "
      ]
     },
     "execution_count": 151,
     "metadata": {},
     "output_type": "execute_result"
    }
   ],
   "source": [
    "# what dogs are missing weights in lbs\n",
    "df[df['weight_lb'] == 0]"
   ]
  },
  {
   "cell_type": "code",
   "execution_count": 152,
   "metadata": {},
   "outputs": [
    {
     "data": {
      "text/plain": [
       "(31, 9)"
      ]
     },
     "execution_count": 152,
     "metadata": {},
     "output_type": "execute_result"
    }
   ],
   "source": [
    "# how many breeds are missing weights in kg\n",
    "df[df['weight_kg'] == 0].shape"
   ]
  },
  {
   "cell_type": "code",
   "execution_count": 153,
   "metadata": {},
   "outputs": [
    {
     "data": {
      "text/html": [
       "<div>\n",
       "<style scoped>\n",
       "    .dataframe tbody tr th:only-of-type {\n",
       "        vertical-align: middle;\n",
       "    }\n",
       "\n",
       "    .dataframe tbody tr th {\n",
       "        vertical-align: top;\n",
       "    }\n",
       "\n",
       "    .dataframe thead th {\n",
       "        text-align: right;\n",
       "    }\n",
       "</style>\n",
       "<table border=\"1\" class=\"dataframe\">\n",
       "  <thead>\n",
       "    <tr style=\"text-align: right;\">\n",
       "      <th></th>\n",
       "      <th>breed</th>\n",
       "      <th>common_nicknames</th>\n",
       "      <th>weight_kg</th>\n",
       "      <th>weight_lb</th>\n",
       "      <th>height_cm</th>\n",
       "      <th>height_in</th>\n",
       "      <th>coat</th>\n",
       "      <th>color</th>\n",
       "      <th>life span</th>\n",
       "    </tr>\n",
       "  </thead>\n",
       "  <tbody>\n",
       "    <tr>\n",
       "      <th>7</th>\n",
       "      <td>toy terrier</td>\n",
       "      <td>0</td>\n",
       "      <td>0</td>\n",
       "      <td>0</td>\n",
       "      <td>0</td>\n",
       "      <td>0</td>\n",
       "      <td>0</td>\n",
       "      <td>0</td>\n",
       "      <td>0</td>\n",
       "    </tr>\n",
       "    <tr>\n",
       "      <th>80</th>\n",
       "      <td>collie</td>\n",
       "      <td>0</td>\n",
       "      <td>0</td>\n",
       "      <td>0</td>\n",
       "      <td>0</td>\n",
       "      <td>0</td>\n",
       "      <td>0</td>\n",
       "      <td>0</td>\n",
       "      <td>0</td>\n",
       "    </tr>\n",
       "    <tr>\n",
       "      <th>97</th>\n",
       "      <td>eskimo dog</td>\n",
       "      <td>0</td>\n",
       "      <td>0</td>\n",
       "      <td>0</td>\n",
       "      <td>0</td>\n",
       "      <td>0</td>\n",
       "      <td>0</td>\n",
       "      <td>0</td>\n",
       "      <td>0</td>\n",
       "    </tr>\n",
       "  </tbody>\n",
       "</table>\n",
       "</div>"
      ],
      "text/plain": [
       "          breed common_nicknames weight_kg weight_lb height_cm height_in coat  \\\n",
       "7   toy terrier                0         0         0         0         0    0   \n",
       "80       collie                0         0         0         0         0    0   \n",
       "97   eskimo dog                0         0         0         0         0    0   \n",
       "\n",
       "   color life span  \n",
       "7      0         0  \n",
       "80     0         0  \n",
       "97     0         0  "
      ]
     },
     "execution_count": 153,
     "metadata": {},
     "output_type": "execute_result"
    }
   ],
   "source": [
    "# what dogs are missing heights in inches\n",
    "df[df['height_in'] == 0]"
   ]
  },
  {
   "cell_type": "code",
   "execution_count": 154,
   "metadata": {},
   "outputs": [
    {
     "data": {
      "text/plain": [
       "(35, 9)"
      ]
     },
     "execution_count": 154,
     "metadata": {},
     "output_type": "execute_result"
    }
   ],
   "source": [
    "#how many breeds are missing heights in cm\n",
    "df[df['height_cm'] == 0].shape"
   ]
  },
  {
   "cell_type": "code",
   "execution_count": 155,
   "metadata": {},
   "outputs": [
    {
     "name": "stdout",
     "output_type": "stream",
     "text": [
      "size before drop (120, 9)\n",
      "size after drop (117, 9)\n"
     ]
    }
   ],
   "source": [
    "# No breed information was found for \"toy terrier\", \"collie\", or \" eskimo dog\" because these are not \n",
    "# specific dog breeds. The images in these folders just contained several breeds with similar appearances. \n",
    "#These rows and images will not be used\n",
    "\n",
    "print(f\"size before drop {df.shape}\")\n",
    "\n",
    "df = df.drop([7,80,97], axis = 0)\n",
    "\n",
    "print(f\"size after drop {df.shape}\")"
   ]
  },
  {
   "cell_type": "code",
   "execution_count": null,
   "metadata": {},
   "outputs": [],
   "source": []
  },
  {
   "cell_type": "code",
   "execution_count": 156,
   "metadata": {},
   "outputs": [],
   "source": [
    "def categorize_size(x):\n",
    "    \"\"\"\n",
    "    gives a size for the passed x\n",
    "    small for x < 20\n",
    "    medium for x 20 to 60\n",
    "    large for x > 60\n",
    "    \"\"\"\n",
    "    if type(x) == str:\n",
    "        \n",
    "        split = x.split(\"_\")\n",
    "        \n",
    "        if len(split) > 1:\n",
    "            weight = float(split[1])\n",
    "        else:\n",
    "            weight = float(split[0])\n",
    "            \n",
    "        if weight < 20:\n",
    "            return \"small\"\n",
    "        if weight < 60:\n",
    "            return \"medium\"\n",
    "        else:\n",
    "            return \"large\"\n",
    "    else:\n",
    "        return x\n",
    "    "
   ]
  },
  {
   "cell_type": "code",
   "execution_count": 157,
   "metadata": {},
   "outputs": [],
   "source": [
    "def lb_to_kg(x):\n",
    "    \"\"\"\n",
    "    converts x from pounds to kilograms\n",
    "    \"\"\"\n",
    "    answer = \"\"\n",
    "    if type(x) == str:\n",
    "        \n",
    "        split = x.split(\"_\")\n",
    "        \n",
    "        if len(split) > 1:\n",
    "            min_weight = float(split[0]) * 0.453592\n",
    "            max_weight = float(split[1]) * 0.453592\n",
    "            min_weight = round(min_weight, 1)\n",
    "            max_weight = round(max_weight, 1)\n",
    "            answer = str(min_weight) + \"_\" + str(max_weight)\n",
    "        else :\n",
    "            weight = float(split[0]) * 0.453592\n",
    "            weight = round(weight, 1)\n",
    "            answer = str(weight)\n",
    "                                             \n",
    "    return answer"
   ]
  },
  {
   "cell_type": "code",
   "execution_count": 158,
   "metadata": {},
   "outputs": [],
   "source": [
    "def in_to_cm(x):\n",
    "    '''\n",
    "    converts x from inches to cm\n",
    "    '''\n",
    "    answer = \"\"\n",
    "    if type(x) == str:\n",
    "        \n",
    "        split = x.split(\"_\")\n",
    "        \n",
    "        if len(split) > 1:\n",
    "            min_height = float(split[0]) * 2.54\n",
    "            max_height = float(split[1]) * 2.54\n",
    "            min_height = int(min_height)\n",
    "            max_height = int(max_height)\n",
    "            answer = str(min_height) + \"_\" + str(max_height)\n",
    "        else:\n",
    "            height = float(split[0]) * 2.54\n",
    "            height = round(height, 0)\n",
    "            answer = str(height)\n",
    "        \n",
    "    return answer"
   ]
  },
  {
   "cell_type": "code",
   "execution_count": 159,
   "metadata": {},
   "outputs": [],
   "source": [
    "df['size'] = df['weight_lb'].apply(categorize_size)\n",
    "df['weight_kg'] = df['weight_lb'].apply(lb_to_kg)\n",
    "df['height_cm'] = df['height_in'].apply(in_to_cm)"
   ]
  },
  {
   "cell_type": "code",
   "execution_count": 160,
   "metadata": {},
   "outputs": [
    {
     "data": {
      "text/html": [
       "<div>\n",
       "<style scoped>\n",
       "    .dataframe tbody tr th:only-of-type {\n",
       "        vertical-align: middle;\n",
       "    }\n",
       "\n",
       "    .dataframe tbody tr th {\n",
       "        vertical-align: top;\n",
       "    }\n",
       "\n",
       "    .dataframe thead th {\n",
       "        text-align: right;\n",
       "    }\n",
       "</style>\n",
       "<table border=\"1\" class=\"dataframe\">\n",
       "  <thead>\n",
       "    <tr style=\"text-align: right;\">\n",
       "      <th></th>\n",
       "      <th>breed</th>\n",
       "      <th>common_nicknames</th>\n",
       "      <th>weight_kg</th>\n",
       "      <th>weight_lb</th>\n",
       "      <th>height_cm</th>\n",
       "      <th>height_in</th>\n",
       "      <th>coat</th>\n",
       "      <th>color</th>\n",
       "      <th>life span</th>\n",
       "      <th>size</th>\n",
       "    </tr>\n",
       "  </thead>\n",
       "  <tbody>\n",
       "    <tr>\n",
       "      <th>0</th>\n",
       "      <td>chihuahua</td>\n",
       "      <td>chi,chi-chi,hua-hua</td>\n",
       "      <td>1.8_2.7</td>\n",
       "      <td>4_6</td>\n",
       "      <td>15_25</td>\n",
       "      <td>6_10</td>\n",
       "      <td>short,long</td>\n",
       "      <td>any</td>\n",
       "      <td>12_20</td>\n",
       "      <td>small</td>\n",
       "    </tr>\n",
       "    <tr>\n",
       "      <th>1</th>\n",
       "      <td>japanese spaniel</td>\n",
       "      <td>japanese chin</td>\n",
       "      <td>1.4_6.8</td>\n",
       "      <td>3_15</td>\n",
       "      <td>20_27</td>\n",
       "      <td>8_11</td>\n",
       "      <td>long</td>\n",
       "      <td>white/black,white/red,tricolor</td>\n",
       "      <td>10_12</td>\n",
       "      <td>small</td>\n",
       "    </tr>\n",
       "    <tr>\n",
       "      <th>2</th>\n",
       "      <td>maltese dog</td>\n",
       "      <td>0</td>\n",
       "      <td>1.4_3.6</td>\n",
       "      <td>3_8</td>\n",
       "      <td>20_25</td>\n",
       "      <td>8_10</td>\n",
       "      <td>long</td>\n",
       "      <td>white</td>\n",
       "      <td>12_15</td>\n",
       "      <td>small</td>\n",
       "    </tr>\n",
       "    <tr>\n",
       "      <th>3</th>\n",
       "      <td>pekinese</td>\n",
       "      <td>pekingese</td>\n",
       "      <td>3.2_6.4</td>\n",
       "      <td>7_14</td>\n",
       "      <td>15_22</td>\n",
       "      <td>6_9</td>\n",
       "      <td>long</td>\n",
       "      <td>multi</td>\n",
       "      <td>12_14</td>\n",
       "      <td>small</td>\n",
       "    </tr>\n",
       "    <tr>\n",
       "      <th>4</th>\n",
       "      <td>shih-tzu</td>\n",
       "      <td>0</td>\n",
       "      <td>4.1_7.3</td>\n",
       "      <td>9_16</td>\n",
       "      <td>20_25</td>\n",
       "      <td>8_10</td>\n",
       "      <td>long</td>\n",
       "      <td>multi</td>\n",
       "      <td>10_16</td>\n",
       "      <td>small</td>\n",
       "    </tr>\n",
       "  </tbody>\n",
       "</table>\n",
       "</div>"
      ],
      "text/plain": [
       "              breed     common_nicknames weight_kg weight_lb height_cm  \\\n",
       "0         chihuahua  chi,chi-chi,hua-hua   1.8_2.7       4_6     15_25   \n",
       "1  japanese spaniel        japanese chin   1.4_6.8      3_15     20_27   \n",
       "2       maltese dog                    0   1.4_3.6       3_8     20_25   \n",
       "3          pekinese            pekingese   3.2_6.4      7_14     15_22   \n",
       "4          shih-tzu                    0   4.1_7.3      9_16     20_25   \n",
       "\n",
       "  height_in        coat                           color life span   size  \n",
       "0      6_10  short,long                             any     12_20  small  \n",
       "1      8_11        long  white/black,white/red,tricolor     10_12  small  \n",
       "2      8_10        long                           white     12_15  small  \n",
       "3       6_9        long                           multi     12_14  small  \n",
       "4      8_10        long                           multi     10_16  small  "
      ]
     },
     "execution_count": 160,
     "metadata": {},
     "output_type": "execute_result"
    }
   ],
   "source": [
    "df.head()"
   ]
  },
  {
   "cell_type": "code",
   "execution_count": 161,
   "metadata": {},
   "outputs": [],
   "source": [
    "columns = df.columns"
   ]
  },
  {
   "cell_type": "code",
   "execution_count": 162,
   "metadata": {},
   "outputs": [],
   "source": [
    "df.to_csv(\"DAPP\\\\dog_final.csv\", index = False)"
   ]
  },
  {
   "cell_type": "code",
   "execution_count": null,
   "metadata": {},
   "outputs": [],
   "source": []
  }
 ],
 "metadata": {
  "kernelspec": {
   "display_name": "Python 3",
   "language": "python",
   "name": "python3"
  },
  "language_info": {
   "codemirror_mode": {
    "name": "ipython",
    "version": 3
   },
   "file_extension": ".py",
   "mimetype": "text/x-python",
   "name": "python",
   "nbconvert_exporter": "python",
   "pygments_lexer": "ipython3",
   "version": "3.8.3"
  }
 },
 "nbformat": 4,
 "nbformat_minor": 4
}
